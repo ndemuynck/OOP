{
 "cells": [
  {
   "cell_type": "code",
   "execution_count": 129,
   "metadata": {},
   "outputs": [],
   "source": [
    "import numpy as np"
   ]
  },
  {
   "cell_type": "code",
   "execution_count": 134,
   "metadata": {},
   "outputs": [],
   "source": [
    "class Matrix(list):\n",
    "\n",
    "    def __init__(self, my_list): # inheritance\n",
    "        super().__init__(my_list)  \n",
    "\n",
    "    def n_rows(self):\n",
    "        m = len(self)\n",
    "        return m\n",
    "    def n_cols(self):\n",
    "        n = len(self[0]);\n",
    "        return n\n",
    "    def get_dim(self):\n",
    "        return (self.n_rows(),self.n_cols())"
   ]
  },
  {
   "cell_type": "code",
   "execution_count": 135,
   "metadata": {},
   "outputs": [
    {
     "name": "stdout",
     "output_type": "stream",
     "text": [
      "4\n",
      "3\n",
      "(4, 3)\n"
     ]
    }
   ],
   "source": [
    "A = Matrix([[1,2,3], [2,3,4], [5,6,7], [8,9,10]])\n",
    "print(A.n_rows())\n",
    "print(A.n_cols())\n",
    "print(A.get_dim())"
   ]
  }
 ],
 "metadata": {
  "kernelspec": {
   "display_name": "Python 3",
   "language": "python",
   "name": "python3"
  },
  "language_info": {
   "codemirror_mode": {
    "name": "ipython",
    "version": 3
   },
   "file_extension": ".py",
   "mimetype": "text/x-python",
   "name": "python",
   "nbconvert_exporter": "python",
   "pygments_lexer": "ipython3",
   "version": "3.8.3"
  }
 },
 "nbformat": 4,
 "nbformat_minor": 4
}
