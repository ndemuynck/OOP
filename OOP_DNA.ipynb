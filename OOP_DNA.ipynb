{
 "cells": [
  {
   "cell_type": "code",
   "execution_count": 144,
   "metadata": {},
   "outputs": [],
   "source": [
    "class DNA_analyser:\n",
    "    def __init__(self, bases, dna):\n",
    "        self.bases = bases\n",
    "        self.dna = dna\n",
    "    \n",
    "    def make_list_trinucleotides(self):\n",
    "        trinucleotides = []\n",
    "        for base1 in bases: \n",
    "            for base2 in bases:\n",
    "                for base3 in bases:\n",
    "                    trinucleotides.append(base1+base2+base3)\n",
    "        return(trinucleotides)\n",
    "    \n",
    "    def get_amino_acids_reports(self):\n",
    "        trinucleotides = self.make_list_trinucleotides()\n",
    "        all_counts = {}\n",
    "        for trinucleotide in trinucleotides:\n",
    "            count = dna.count(trinucleotide)\n",
    "            if count > 0:\n",
    "                all_counts[trinucleotide] = count\n",
    "        return(all_counts)"
   ]
  },
  {
   "cell_type": "code",
   "execution_count": 145,
   "metadata": {},
   "outputs": [
    {
     "name": "stdout",
     "output_type": "stream",
     "text": [
      "['AAA', 'AAT', 'AAG', 'AAC', 'ATA', 'ATT', 'ATG', 'ATC', 'AGA', 'AGT', 'AGG', 'AGC', 'ACA', 'ACT', 'ACG', 'ACC', 'TAA', 'TAT', 'TAG', 'TAC', 'TTA', 'TTT', 'TTG', 'TTC', 'TGA', 'TGT', 'TGG', 'TGC', 'TCA', 'TCT', 'TCG', 'TCC', 'GAA', 'GAT', 'GAG', 'GAC', 'GTA', 'GTT', 'GTG', 'GTC', 'GGA', 'GGT', 'GGG', 'GGC', 'GCA', 'GCT', 'GCG', 'GCC', 'CAA', 'CAT', 'CAG', 'CAC', 'CTA', 'CTT', 'CTG', 'CTC', 'CGA', 'CGT', 'CGG', 'CGC', 'CCA', 'CCT', 'CCG', 'CCC']\n",
      "{'AAT': 1, 'AAC': 1, 'ATG': 2, 'ACG': 1, 'TGA': 2, 'GAA': 1, 'GAT': 1, 'GAC': 1, 'CGA': 1}\n"
     ]
    }
   ],
   "source": [
    "bases = ['A','T','G','C']\n",
    "dna = \"AATGATGAACGAC\" \n",
    "\n",
    "analysis = DNA_analyser(bases, dna)\n",
    "print(analysis.make_list_trinucleotides())\n",
    "print(analysis.get_amino_acids_reports())"
   ]
  },
  {
   "cell_type": "code",
   "execution_count": null,
   "metadata": {},
   "outputs": [],
   "source": []
  }
 ],
 "metadata": {
  "kernelspec": {
   "display_name": "Python 3",
   "language": "python",
   "name": "python3"
  },
  "language_info": {
   "codemirror_mode": {
    "name": "ipython",
    "version": 3
   },
   "file_extension": ".py",
   "mimetype": "text/x-python",
   "name": "python",
   "nbconvert_exporter": "python",
   "pygments_lexer": "ipython3",
   "version": "3.8.3"
  }
 },
 "nbformat": 4,
 "nbformat_minor": 4
}
